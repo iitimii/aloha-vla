{
 "cells": [
  {
   "cell_type": "code",
   "execution_count": 1,
   "id": "e0ace0e9",
   "metadata": {},
   "outputs": [],
   "source": [
    "from mujoco_playground import wrapper\n",
    "from mujoco_playground import registry\n",
    "import jax\n",
    "from jax import numpy as jnp\n",
    "from jax import jit, vmap"
   ]
  },
  {
   "cell_type": "code",
   "execution_count": 2,
   "id": "fe131558",
   "metadata": {},
   "outputs": [
    {
     "data": {
      "text/plain": [
       "('AlohaHandOver',\n",
       " 'AlohaSinglePegInsertion',\n",
       " 'PandaPickCube',\n",
       " 'PandaPickCubeOrientation',\n",
       " 'PandaPickCubeCartesian',\n",
       " 'PandaOpenCabinet',\n",
       " 'PandaRobotiqPushCube',\n",
       " 'LeapCubeReorient',\n",
       " 'LeapCubeRotateZAxis')"
      ]
     },
     "execution_count": 2,
     "metadata": {},
     "output_type": "execute_result"
    }
   ],
   "source": [
    "registry.manipulation.ALL_ENVS"
   ]
  },
  {
   "cell_type": "code",
   "execution_count": 3,
   "id": "d738f9c3",
   "metadata": {},
   "outputs": [
    {
     "name": "stderr",
     "output_type": "stream",
     "text": [
      "WARNING:2025-04-03 10:57:07,145:jax._src.xla_bridge:1018: Platform 'METAL' is experimental and not all JAX functionality may be correctly supported!\n",
      "WARNING: All log messages before absl::InitializeLog() is called are written to STDERR\n",
      "W0000 00:00:1743674227.149544 7548639 mps_client.cc:510] WARNING: JAX Apple GPU support is experimental and not all JAX functionality is correctly supported!\n",
      "I0000 00:00:1743674227.203392 7548639 service.cc:145] XLA service 0x3155ce910 initialized for platform METAL (this does not guarantee that XLA will be used). Devices:\n",
      "I0000 00:00:1743674227.203630 7548639 service.cc:153]   StreamExecutor device (0): Metal, <undefined>\n",
      "I0000 00:00:1743674227.207585 7548639 mps_client.cc:406] Using Simple allocator.\n",
      "I0000 00:00:1743674227.207598 7548639 mps_client.cc:384] XLA backend will use up to 5726240768 bytes on device 0 for SimpleAllocator.\n"
     ]
    },
    {
     "name": "stdout",
     "output_type": "stream",
     "text": [
      "Metal device set to: Apple M1\n",
      "\n",
      "systemMemory: 8.00 GB\n",
      "maxCacheSize: 2.67 GB\n",
      "\n"
     ]
    },
    {
     "data": {
      "text/plain": [
       "action_repeat: 1\n",
       "action_scale: 0.015\n",
       "ctrl_dt: 0.02\n",
       "episode_length: 250\n",
       "reward_config:\n",
       "  scales:\n",
       "    box_handover: 4\n",
       "    gripper_box: 1\n",
       "    handover_target: 8\n",
       "    no_table_collision: 0.3\n",
       "sim_dt: 0.005"
      ]
     },
     "execution_count": 3,
     "metadata": {},
     "output_type": "execute_result"
    }
   ],
   "source": [
    "env_name = 'AlohaHandOver'\n",
    "env = registry.load(env_name)\n",
    "env_cfg = registry.get_default_config(env_name)\n",
    "env_cfg"
   ]
  },
  {
   "cell_type": "code",
   "execution_count": 4,
   "id": "003315ea",
   "metadata": {},
   "outputs": [],
   "source": [
    "jit_reset = jit(env.reset)"
   ]
  },
  {
   "cell_type": "code",
   "execution_count": 5,
   "id": "3d11f347",
   "metadata": {},
   "outputs": [
    {
     "ename": "XlaRuntimeError",
     "evalue": "UNKNOWN: /var/folders/fy/l7m3mxt134l8s0qzd7h_4s_00000gn/T/ipykernel_32735/3110333313.py:2:8: error: failed to legalize operation 'mhlo.reduce'\n/var/folders/fy/l7m3mxt134l8s0qzd7h_4s_00000gn/T/ipykernel_32735/3110333313.py:2:8: note: called from\n<frozen runpy>:88:4: note: called from\n<frozen runpy>:198:11: note: called from\n/var/folders/fy/l7m3mxt134l8s0qzd7h_4s_00000gn/T/ipykernel_32735/3110333313.py:2:8: note: see current operation: \n%17399 = \"mhlo.reduce\"(%179, %717) ({\n^bb0(%arg1: tensor<i1>, %arg2: tensor<i1>):\n  \"mhlo.return\"(%717) : (tensor<i1>) -> ()\n}) {dimensions = dense<1> : tensor<1xi64>} : (tensor<1x4xi1>, tensor<i1>) -> tensor<1xi1>\n",
     "output_type": "error",
     "traceback": [
      "\u001b[0;31m---------------------------------------------------------------------------\u001b[0m",
      "\u001b[0;31mXlaRuntimeError\u001b[0m                           Traceback (most recent call last)",
      "Cell \u001b[0;32mIn[5], line 2\u001b[0m\n\u001b[1;32m      1\u001b[0m rng \u001b[38;5;241m=\u001b[39m jax\u001b[38;5;241m.\u001b[39mrandom\u001b[38;5;241m.\u001b[39mPRNGKey(\u001b[38;5;241m42\u001b[39m)\n\u001b[0;32m----> 2\u001b[0m state \u001b[38;5;241m=\u001b[39m \u001b[43mjit_reset\u001b[49m\u001b[43m(\u001b[49m\u001b[43mrng\u001b[49m\u001b[43m)\u001b[49m\n",
      "    \u001b[0;31m[... skipping hidden 10 frame]\u001b[0m\n",
      "File \u001b[0;32m~/miniforge3/envs/ai/lib/python3.12/site-packages/jax/_src/compiler.py:315\u001b[0m, in \u001b[0;36mbackend_compile\u001b[0;34m(backend, module, options, host_callbacks)\u001b[0m\n\u001b[1;32m    309\u001b[0m     \u001b[38;5;28;01mreturn\u001b[39;00m backend\u001b[38;5;241m.\u001b[39mcompile(\n\u001b[1;32m    310\u001b[0m         built_c, compile_options\u001b[38;5;241m=\u001b[39moptions, host_callbacks\u001b[38;5;241m=\u001b[39mhost_callbacks\n\u001b[1;32m    311\u001b[0m     )\n\u001b[1;32m    312\u001b[0m   \u001b[38;5;66;03m# Some backends don't have `host_callbacks` option yet\u001b[39;00m\n\u001b[1;32m    313\u001b[0m   \u001b[38;5;66;03m# TODO(sharadmv): remove this fallback when all backends allow `compile`\u001b[39;00m\n\u001b[1;32m    314\u001b[0m   \u001b[38;5;66;03m# to take in `host_callbacks`\u001b[39;00m\n\u001b[0;32m--> 315\u001b[0m   \u001b[38;5;28;01mreturn\u001b[39;00m \u001b[43mbackend\u001b[49m\u001b[38;5;241;43m.\u001b[39;49m\u001b[43mcompile\u001b[49m\u001b[43m(\u001b[49m\u001b[43mbuilt_c\u001b[49m\u001b[43m,\u001b[49m\u001b[43m \u001b[49m\u001b[43mcompile_options\u001b[49m\u001b[38;5;241;43m=\u001b[39;49m\u001b[43moptions\u001b[49m\u001b[43m)\u001b[49m\n\u001b[1;32m    316\u001b[0m \u001b[38;5;28;01mexcept\u001b[39;00m xc\u001b[38;5;241m.\u001b[39mXlaRuntimeError \u001b[38;5;28;01mas\u001b[39;00m e:\n\u001b[1;32m    317\u001b[0m   \u001b[38;5;28;01mfor\u001b[39;00m error_handler \u001b[38;5;129;01min\u001b[39;00m _XLA_RUNTIME_ERROR_HANDLERS:\n",
      "\u001b[0;31mXlaRuntimeError\u001b[0m: UNKNOWN: /var/folders/fy/l7m3mxt134l8s0qzd7h_4s_00000gn/T/ipykernel_32735/3110333313.py:2:8: error: failed to legalize operation 'mhlo.reduce'\n/var/folders/fy/l7m3mxt134l8s0qzd7h_4s_00000gn/T/ipykernel_32735/3110333313.py:2:8: note: called from\n<frozen runpy>:88:4: note: called from\n<frozen runpy>:198:11: note: called from\n/var/folders/fy/l7m3mxt134l8s0qzd7h_4s_00000gn/T/ipykernel_32735/3110333313.py:2:8: note: see current operation: \n%17399 = \"mhlo.reduce\"(%179, %717) ({\n^bb0(%arg1: tensor<i1>, %arg2: tensor<i1>):\n  \"mhlo.return\"(%717) : (tensor<i1>) -> ()\n}) {dimensions = dense<1> : tensor<1xi64>} : (tensor<1x4xi1>, tensor<i1>) -> tensor<1xi1>\n"
     ]
    }
   ],
   "source": [
    "rng = jax.random.PRNGKey(42)\n",
    "state = jit_reset(rng)"
   ]
  },
  {
   "cell_type": "code",
   "execution_count": null,
   "id": "cb45974a",
   "metadata": {},
   "outputs": [],
   "source": [
    "\n",
    "env.render(state, height=480, width=640)"
   ]
  }
 ],
 "metadata": {
  "kernelspec": {
   "display_name": "ai",
   "language": "python",
   "name": "python3"
  },
  "language_info": {
   "codemirror_mode": {
    "name": "ipython",
    "version": 3
   },
   "file_extension": ".py",
   "mimetype": "text/x-python",
   "name": "python",
   "nbconvert_exporter": "python",
   "pygments_lexer": "ipython3",
   "version": "3.12.8"
  }
 },
 "nbformat": 4,
 "nbformat_minor": 5
}
